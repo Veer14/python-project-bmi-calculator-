{
 "cells": [
  {
   "cell_type": "code",
   "execution_count": 1,
   "metadata": {},
   "outputs": [],
   "source": [
    "name1 = 'j';\n",
    "heightM1 = 2;\n",
    "weightKG1 = 100;\n",
    "\n",
    "\n",
    "name2 = 'k';\n",
    "heightM2 = 2.\n",
    "140;\n",
    "weightKG2 = 92;\n",
    "\n",
    "\n",
    "name3 = 'l';\n",
    "heightM3 = 2555565;\n",
    "weightKG3 = 15555555;\n"
   ]
  },
  {
   "cell_type": "code",
   "execution_count": 2,
   "metadata": {},
   "outputs": [],
   "source": [
    "def bmiCalc(name, weightKG, heightM):\n",
    "    bmi = weightKG / (heightM **2);\n",
    "    print('bmi is');\n",
    "    print(bmi);\n",
    "    if bmi < 25:\n",
    "        return name + ' is not overweight';\n",
    "    else:\n",
    "        return name + ' is overweight'"
   ]
  },
  {
   "cell_type": "code",
   "execution_count": 3,
   "metadata": {},
   "outputs": [
    {
     "name": "stdout",
     "output_type": "stream",
     "text": [
      "bmi is\n",
      "25.0\n",
      "bmi is\n",
      "23.0\n",
      "bmi is\n",
      "2.3818348620198124e-06\n"
     ]
    }
   ],
   "source": [
    "result1 = bmiCalc(name1, weightKG1, heightM1);\n",
    "result2 = bmiCalc(name2, weightKG2, heightM2);\n",
    "result3 = bmiCalc(name3, weightKG3, heightM3);"
   ]
  },
  {
   "cell_type": "code",
   "execution_count": 4,
   "metadata": {},
   "outputs": [
    {
     "name": "stdout",
     "output_type": "stream",
     "text": [
      "j is overweight k is not overweight l is not overweight\n"
     ]
    }
   ],
   "source": [
    "print(result1,     \n",
    "       result2,     \n",
    "       result3);"
   ]
  },
  {
   "cell_type": "code",
   "execution_count": null,
   "metadata": {},
   "outputs": [],
   "source": []
  }
 ],
 "metadata": {
  "kernelspec": {
   "display_name": "Python 3",
   "language": "python",
   "name": "python3"
  },
  "language_info": {
   "codemirror_mode": {
    "name": "ipython",
    "version": 3
   },
   "file_extension": ".py",
   "mimetype": "text/x-python",
   "name": "python",
   "nbconvert_exporter": "python",
   "pygments_lexer": "ipython3",
   "version": "3.8.5"
  }
 },
 "nbformat": 4,
 "nbformat_minor": 4
}
